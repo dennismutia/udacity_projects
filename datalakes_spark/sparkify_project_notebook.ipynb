{
 "cells": [
  {
   "cell_type": "code",
   "execution_count": null,
   "metadata": {},
   "outputs": [],
   "source": [
    "%%spark"
   ]
  },
  {
   "cell_type": "code",
   "execution_count": null,
   "metadata": {},
   "outputs": [],
   "source": [
    "from datetime import datetime\n",
    "import os\n",
    "from pyspark.sql import SparkSession\n",
    "from pyspark.sql.functions import udf, col,monotonically_increasing_id\n",
    "from pyspark.sql.functions import year, month, dayofmonth, hour, weekofyear, date_format"
   ]
  },
  {
   "cell_type": "code",
   "execution_count": null,
   "metadata": {},
   "outputs": [],
   "source": []
  },
  {
   "cell_type": "code",
   "execution_count": null,
   "metadata": {},
   "outputs": [],
   "source": [
    "def create_spark_session():\n",
    "    spark = SparkSession \\\n",
    "        .builder \\\n",
    "        .config(\"spark.jars.packages\", \"org.apache.hadoop:hadoop-aws:2.7.0\") \\\n",
    "        .getOrCreate()\n",
    "    return spark"
   ]
  },
  {
   "cell_type": "code",
   "execution_count": null,
   "metadata": {},
   "outputs": [],
   "source": [
    "def process_song_data(spark, input_data, output_data):\n",
    "    \"\"\"\n",
    "    Description: Reads song data from an S3 bucket, creates a songs and artist table then writes the tables in parquet format back to an S3 bucket.\n",
    "    \n",
    "    Input:\n",
    "        spark       :   the spark session\n",
    "        input_data  :   the location of the song data file\n",
    "        output_data :   the location where the output files will be stored\n",
    "    \"\"\"\n",
    "    # get filepath to song data file\n",
    "    song_data = input_data + 'song_data/*/*/*/*.json'\n",
    "    \n",
    "    # read song data file\n",
    "    df = spark.read.json(song_data)\n",
    "\n",
    "    # extract columns to create songs table\n",
    "    \n",
    "    songs_table = df['song_id', 'title', 'artist_id', 'year', 'duration'].where(col(\"song_id\").isNotNull()).dropDuplicates(['song_id'])\n",
    "\n",
    "    # write songs table to parquet files partitioned by year and artist\n",
    "    songs_table.write.mode('overwrite').partitionBy(\"year\", \"artist_id\").parquet(output_data+'songs_table/')\n",
    "    \n",
    "    # extract columns to create artists table\n",
    "    artists_table = df['artist_id', 'artist_name', 'artist_location', 'artist_latitude', 'artist_longitude'].dropDuplicates(['artist_id']).where(col(\"artist_id\").isNotNull())\n",
    "    \n",
    "    # write artists table to parquet files\n",
    "    artists_table.write.mode(\"overwrite\").parquet(output_data+'artists_table/')\n"
   ]
  },
  {
   "cell_type": "code",
   "execution_count": null,
   "metadata": {},
   "outputs": [],
   "source": [
    "def process_log_data(spark, input_data, output_data):\n",
    "    \"\"\"\n",
    "    Description: This module reads log data file from S3, creates users, time and songplays tables and writes them back to an S3 bucket\n",
    "    \n",
    "    Input:\n",
    "        spark       :  the spark session\n",
    "        input_data  :  the path to the log data file from where it will be loaded into spark for analysis\n",
    "        output-data :  the path to where the output files will be stored after processing\n",
    "    \"\"\"\n",
    "    # get filepath to log data file\n",
    "    log_data = input_data + 'log_data/*/*/*.json'\n",
    "    \n",
    "    # read log data file\n",
    "    df = spark.read.json(log_data)\n",
    "    \n",
    "    # filter by actions for song plays\n",
    "    df = df.filter(df.page == \"NextSong\")\n",
    "\n",
    "    # extract columns for users table    \n",
    "    users_table = df['userId', 'firstName', 'lastName', 'gender', 'level'].dropDuplicates(['userId'])\n",
    "    \n",
    "    # write users table to parquet files\n",
    "    users_table.write.mode('overwrite').parquet(output_data+'users_table/')\n",
    "    \n",
    "    # create timestamp column from original timestamp column\n",
    "    get_timestamp = udf(lambda x: str(int(int(x)/1000)))\n",
    "    df = df.withColumn('timestamp', get_timestamp(df.ts))\n",
    "    \n",
    "    # create datetime column from original timestamp column\n",
    "    get_datetime = udf(lambda x: str(datetime.fromtimestamp(int(x) / 1000.0)))\n",
    "    df = df.withColumn(\"datetime\", get_datetime(df.ts))\n",
    "    \n",
    "    # extract columns to create time table\n",
    "    time_table = df.select(\n",
    "        col('datetime').alias('start_time'),\n",
    "        hour('datetime').alias('hour'),\n",
    "        dayofmonth('datetime').alias('day'),\n",
    "        weekofyear('datetime').alias('week'),\n",
    "        month('datetime').alias('month'),\n",
    "        year('datetime').alias('year') \n",
    "   )\n",
    "    time_table = time_table.dropDuplicates(['start_time'])\n",
    "    \n",
    "    # write time table to parquet files partitioned by year and month\n",
    "    time_table.write.mode('overwrite').partitionBy(\"year\", \"month\").parquet(output_data+'time_table/')\n",
    "\n",
    "    # read in song data to use for songplays table\n",
    "    song_df = spark.read.json(song_data) \n",
    "\n",
    "    # extract columns from joined song and log datasets to create songplays table \n",
    "    df = df.join(song_df, song_df.title == df.song)\n",
    "    df = df.withColumn(\"songplay_id\", monotonically_increasing_id())\n",
    "    \n",
    "    songplays_table = df.select(\n",
    "        col('songplay_id').alias('songplay_id'),\n",
    "        col('ts').alias('ts'),\n",
    "        col('userId').alias('user_id'),\n",
    "        col('level').alias('level'),\n",
    "        col('song_id').alias('song_id'),\n",
    "        col('artist_id').alias('artist_id'),\n",
    "        col('sessionId').alias('session_id'),\n",
    "        col('location').alias('location'),\n",
    "        col('userAgent').alias('user_agent'),\n",
    "        col('year').alias('year'),\n",
    "        month('datetime').alias('month')\n",
    "    )\n",
    "    \n",
    "    # write songplays table to parquet files partitioned by year and month\n",
    "    songplays_table.write.mode('overwrite').partitionBy(\"year\", \"month\").parquet(output_data+'songplays_table/')"
   ]
  },
  {
   "cell_type": "code",
   "execution_count": null,
   "metadata": {},
   "outputs": [],
   "source": [
    "def main():\n",
    "    spark = create_spark_session()\n",
    "    input_data = \"s3a://udacity-dend/\"\n",
    "    output_data = \"s3a://udacity-datalake-ouput/\"\n",
    "    \n",
    "    process_song_data(spark, input_data, output_data)    \n",
    "    process_log_data(spark, input_data, output_data)\n",
    "    \n",
    "if __name__ == \"__main__\":\n",
    "    main()"
   ]
  },
  {
   "cell_type": "code",
   "execution_count": null,
   "metadata": {},
   "outputs": [],
   "source": [
    "spark = create_spark_session()"
   ]
  },
  {
   "cell_type": "code",
   "execution_count": null,
   "metadata": {},
   "outputs": [],
   "source": [
    "input_data = \"s3a://udacity-dend/\"\n",
    "output_data = \"s3a://udacity-datalake-ouput/\""
   ]
  },
  {
   "cell_type": "code",
   "execution_count": null,
   "metadata": {},
   "outputs": [],
   "source": [
    "process_song_data(spark, input_data, output_data)"
   ]
  },
  {
   "cell_type": "code",
   "execution_count": null,
   "metadata": {},
   "outputs": [],
   "source": [
    "process_log_data(spark, input_data, output_data)"
   ]
  },
  {
   "cell_type": "code",
   "execution_count": null,
   "metadata": {},
   "outputs": [],
   "source": []
  }
 ],
 "metadata": {
  "kernelspec": {
   "display_name": "PySpark",
   "language": "",
   "name": "pysparkkernel"
  },
  "language_info": {
   "codemirror_mode": {
    "name": "python",
    "version": 2
   },
   "mimetype": "text/x-python",
   "name": "pyspark",
   "pygments_lexer": "python2"
  }
 },
 "nbformat": 4,
 "nbformat_minor": 4
}
